{
 "cells": [
  {
   "cell_type": "markdown",
   "metadata": {},
   "source": []
  },
  {
   "cell_type": "markdown",
   "metadata": {},
   "source": [
    "* 基本概念\n",
    "    * 是重点突出、逻辑清楚、层次分明、简单易懂的思考方式、沟通方式、规范动作\n",
    "    * 基本结构：结论先行，以上统下，归类分组，逻辑递进。先重要后次要，先总结后具体，先框架后细节，先结论后原因，先结果后过程，先论点后论据\n",
    "    * 训练表达者：关注，挖掘受众的意图、需求点、利益点、关注点、兴趣点、兴奋点，想清说什么（内容），怎么说（思路，结构），掌握沟通的标准结构、规范动作。\n",
    "    * 达到效果：观点鲜明、重点突出、思路清晰、层次分明、简单易懂\n",
    "    * 具体做法：自上而下表达，自下而上思考，纵向总结概况，横线归类分组，序言讲故事，标题提炼思想精华"
   ]
  },
  {
   "cell_type": "markdown",
   "metadata": {},
   "source": [
    "* 文章中的思想必须符合一下规则：\n",
    "    * 纵向：文章中任一层次必须是下一层次思想的概况\n",
    "    * 横向：每组中的思想必须属于同一逻辑范畴\n",
    "    * 横向：每组中的思想必须按逻辑顺序组织"
   ]
  },
  {
   "cell_type": "markdown",
   "metadata": {},
   "source": [
    "* 组织思想基本上只有四种逻辑顺序：\n",
    "    * 演绎顺序：大前提、小前提、结论\n",
    "    * 时间（步骤）顺序：第一、第二、第三\n",
    "    * 结构（空间）顺序：博士顿、纽约、华盛顿\n",
    "    * 程度（重要性）顺序：最重要、次重要"
   ]
  },
  {
   "cell_type": "markdown",
   "metadata": {},
   "source": [
    "* **纵向关系**：具有疑问/问答式的对话\n",
    "* **横向关系**：各思想应符合演绎和归纳思想的组成特征，\n",
    "    * 演绎性思想：具有几个承前启后的论述组成：\n",
    "        1. 对当今世界上的某种现象的表述\n",
    "        2. 是对该句子的主语或谓语所作的表述\n",
    "        3. 说明以上两种表述同时在世界上存在时所具有的隐含意义\n",
    "    * 归纳性思想：组合中的思想相互关联，你可以用同一个名词表示组中的所有思想\n"
   ]
  },
  {
   "cell_type": "code",
   "execution_count": null,
   "metadata": {},
   "outputs": [],
   "source": []
  },
  {
   "cell_type": "code",
   "execution_count": null,
   "metadata": {},
   "outputs": [],
   "source": []
  }
 ],
 "metadata": {
  "kernelspec": {
   "display_name": "Python 3",
   "language": "python",
   "name": "python3"
  },
  "language_info": {
   "codemirror_mode": {
    "name": "ipython",
    "version": 3
   },
   "file_extension": ".py",
   "mimetype": "text/x-python",
   "name": "python",
   "nbconvert_exporter": "python",
   "pygments_lexer": "ipython3",
   "version": "3.6.6"
  }
 },
 "nbformat": 4,
 "nbformat_minor": 2
}
